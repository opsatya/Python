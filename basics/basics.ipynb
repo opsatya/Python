{
 "cells": [
  {
   "cell_type": "code",
   "execution_count": null,
   "id": "24f1dd67-9b17-4006-aa2e-6f3d3a427956",
   "metadata": {},
   "outputs": [],
   "source": []
  }
 ],
 "metadata": {
  "kernelspec": {
   "display_name": "",
   "name": ""
  },
  "language_info": {
   "name": ""
  }
 },
 "nbformat": 4,
 "nbformat_minor": 5
}

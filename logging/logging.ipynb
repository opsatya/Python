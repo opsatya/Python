{
 "cells": [
  {
   "cell_type": "code",
   "execution_count": 1,
   "id": "c49723ff-bd40-4e0f-820a-80e81b9a053e",
   "metadata": {},
   "outputs": [],
   "source": [
    "import logging"
   ]
  },
  {
   "cell_type": "code",
   "execution_count": 5,
   "id": "69b54c3e-6de7-43a1-8f9c-03d05292d4db",
   "metadata": {},
   "outputs": [],
   "source": [
    "# connfiguring the basic logging setting\n",
    "logging.basicConfig(level = logging.DEBUG)"
   ]
  },
  {
   "cell_type": "code",
   "execution_count": 6,
   "id": "72b35ce1-cb4b-43a6-b989-3106165dd725",
   "metadata": {},
   "outputs": [
    {
     "name": "stderr",
     "output_type": "stream",
     "text": [
      "DEBUG:root:this is a debug msg\n",
      "INFO:root:this is an info message\n",
      "WARNING:root:this is a warning msg\n",
      "ERROR:root:this is err msg\n",
      "CRITICAL:root:this is a critical msg\n"
     ]
    }
   ],
   "source": [
    "# logging massage with different severity levels\n",
    "logging.debug('this is a debug msg')\n",
    "logging.info('this is an info message')\n",
    "logging.warning('this is a warning msg')\n",
    "logging.error('this is err msg')\n",
    "logging.critical('this is a critical msg')"
   ]
  },
  {
   "cell_type": "code",
   "execution_count": 7,
   "id": "a38c9d3a-28f3-49fc-9725-7da0d6842dcb",
   "metadata": {},
   "outputs": [],
   "source": [
    "# for the better understanding of errros we use the logging \n",
    "# provides a way to track error , events and operational information\n",
    "# emmiting log msg from python programs"
   ]
  },
  {
   "cell_type": "code",
   "execution_count": 8,
   "id": "a7df389f-9b93-4013-a12d-40068519414d",
   "metadata": {},
   "outputs": [],
   "source": [
    "#debug: detailed informaation typically for debugging or when dignosising problems\n",
    "#info: confermation things are working as expected\n",
    "# warning: an indecation that something unexpected happened or indictive of some problrrm in the near future\n",
    "#error: due to a more seious problem, thhe software has not be avle to perform some functions \n",
    "# critcal : a veru serious error indeacting that the program itself may be unable to continue running\n"
   ]
  },
  {
   "cell_type": "code",
   "execution_count": 2,
   "id": "6c4252f4-62f8-4d80-9f88-b510a2e270d2",
   "metadata": {},
   "outputs": [],
   "source": [
    "# we can configure ,means how they gona displayed\n",
    "logging.basicConfig(\n",
    "    filename = 'app.log',\n",
    "    filemode = 'w',\n",
    "    level = logging.DEBUG,\n",
    "    format='%(asctime)s-%(name)s-%(levelname)s-%(message)s',  # Fixed typo: asctime not acstime\n",
    "    datefmt = '%Y-%m-%d %H:%M:%S'\n",
    ")\n",
    "logging.debug('this is a debug msg')\n"
   ]
  },
  {
   "cell_type": "code",
   "execution_count": 1,
   "id": "a46d68d0-d801-4bd2-a394-4211d2eb34fb",
   "metadata": {},
   "outputs": [],
   "source": [
    "# logging with the multile loggers\n",
    "# you can create multiple loggers for different parts of your application\n",
    "\n",
    "\n",
    "import logging\n",
    "\n",
    "# logger1\n",
    "logger1 = logging.getLogger('module1')\n",
    "logger1.setLevel(logging.DEBUG)\n",
    "\n",
    "# logger2\n",
    "logger2 = logging.getLogger('module2')\n",
    "logger2.setLevel(logging.WARNING)\n",
    "\n",
    "logging.basicConfig(\n",
    "    level= logging.DEBUG,\n",
    "    format='%(asctime)s-%(name)s-%(levelname)s-%(message)s',  # Fixed typo: asctime not acstime\n",
    "    datefmt = '%Y-%m-%d %H:%M:%S'\n",
    ")"
   ]
  },
  {
   "cell_type": "code",
   "execution_count": 2,
   "id": "adc5f345",
   "metadata": {},
   "outputs": [
    {
     "name": "stderr",
     "output_type": "stream",
     "text": [
      "2025-06-16 15:33:30-module1-DEBUG-this is logged for the module 1\n",
      "2025-06-16 15:33:30-module2-WARNING-this is warninng for the module 2\n"
     ]
    }
   ],
   "source": [
    "logger1.debug('this is logged for the module 1')\n",
    "logger2.warning('this is warninng for the module 2')\n"
   ]
  },
  {
   "cell_type": "code",
   "execution_count": null,
   "id": "475a2828",
   "metadata": {},
   "outputs": [],
   "source": []
  }
 ],
 "metadata": {
  "kernelspec": {
   "display_name": "base",
   "language": "python",
   "name": "python3"
  },
  "language_info": {
   "codemirror_mode": {
    "name": "ipython",
    "version": 3
   },
   "file_extension": ".py",
   "mimetype": "text/x-python",
   "name": "python",
   "nbconvert_exporter": "python",
   "pygments_lexer": "ipython3",
   "version": "3.12.7"
  }
 },
 "nbformat": 4,
 "nbformat_minor": 5
}
